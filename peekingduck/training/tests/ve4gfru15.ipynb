{
 "cells": [
  {
   "cell_type": "code",
   "execution_count": 1,
   "metadata": {},
   "outputs": [
    {
     "name": "stderr",
     "output_type": "stream",
     "text": [
      "/opt/homebrew/Caskroom/miniforge/base/envs/train/lib/python3.10/site-packages/tqdm/auto.py:22: TqdmWarning: IProgress not found. Please update jupyter and ipywidgets. See https://ipywidgets.readthedocs.io/en/stable/user_install.html\n",
      "  from .autonotebook import tqdm as notebook_tqdm\n"
     ]
    }
   ],
   "source": [
    "from hydra import initialize, compose\n",
    "from pathlib import Path\n",
    "import pandas as pd\n",
    "\n",
    "from peekingduck.training.src.utils.general_utils import (\n",
    "    create_dataframe_with_image_info,\n",
    "    download_to,\n",
    "    extract_file,\n",
    "    return_list_of_files,\n",
    ")\n"
   ]
  },
  {
   "cell_type": "code",
   "execution_count": 2,
   "metadata": {},
   "outputs": [],
   "source": [
    "train_dir: Path = Path(\"data/vegfru5\")\n",
    "train_images = return_list_of_files(\n",
    "    train_dir, extensions=[\".jpg\", \".png\", \".jpeg\"], return_string=False\n",
    ")\n"
   ]
  },
  {
   "cell_type": "code",
   "execution_count": 3,
   "metadata": {},
   "outputs": [
    {
     "data": {
      "text/plain": [
       "0"
      ]
     },
     "execution_count": 3,
     "metadata": {},
     "output_type": "execute_result"
    }
   ],
   "source": [
    "len(train_images)"
   ]
  },
  {
   "cell_type": "code",
   "execution_count": 4,
   "metadata": {},
   "outputs": [],
   "source": [
    "df = pd.read_csv(\"data/vegfru/supvegfru_all.csv\", delimiter=\" \") # supvegfru_train.csv sub_classes.csv supvegfru_all.csv"
   ]
  },
  {
   "cell_type": "code",
   "execution_count": 5,
   "metadata": {},
   "outputs": [
    {
     "data": {
      "text/html": [
       "<div>\n",
       "<style scoped>\n",
       "    .dataframe tbody tr th:only-of-type {\n",
       "        vertical-align: middle;\n",
       "    }\n",
       "\n",
       "    .dataframe tbody tr th {\n",
       "        vertical-align: top;\n",
       "    }\n",
       "\n",
       "    .dataframe thead th {\n",
       "        text-align: right;\n",
       "    }\n",
       "</style>\n",
       "<table border=\"1\" class=\"dataframe\">\n",
       "  <thead>\n",
       "    <tr style=\"text-align: right;\">\n",
       "      <th></th>\n",
       "      <th>image_path</th>\n",
       "      <th>class_id</th>\n",
       "    </tr>\n",
       "  </thead>\n",
       "  <tbody>\n",
       "    <tr>\n",
       "      <th>0</th>\n",
       "      <td>veg200_images/Chinese_artichoke/v_14_01_0001.jpg</td>\n",
       "      <td>13</td>\n",
       "    </tr>\n",
       "    <tr>\n",
       "      <th>1</th>\n",
       "      <td>veg200_images/Chinese_artichoke/v_14_01_0002.jpg</td>\n",
       "      <td>13</td>\n",
       "    </tr>\n",
       "    <tr>\n",
       "      <th>2</th>\n",
       "      <td>veg200_images/Chinese_artichoke/v_14_01_0003.jpg</td>\n",
       "      <td>13</td>\n",
       "    </tr>\n",
       "    <tr>\n",
       "      <th>3</th>\n",
       "      <td>veg200_images/Chinese_artichoke/v_14_01_0004.jpg</td>\n",
       "      <td>13</td>\n",
       "    </tr>\n",
       "    <tr>\n",
       "      <th>4</th>\n",
       "      <td>veg200_images/Chinese_artichoke/v_14_01_0005.jpg</td>\n",
       "      <td>13</td>\n",
       "    </tr>\n",
       "    <tr>\n",
       "      <th>...</th>\n",
       "      <td>...</td>\n",
       "      <td>...</td>\n",
       "    </tr>\n",
       "    <tr>\n",
       "      <th>160726</th>\n",
       "      <td>fru92_images/yacon/f_08_02_0419.jpg</td>\n",
       "      <td>24</td>\n",
       "    </tr>\n",
       "    <tr>\n",
       "      <th>160727</th>\n",
       "      <td>fru92_images/yacon/f_08_02_0420.jpg</td>\n",
       "      <td>24</td>\n",
       "    </tr>\n",
       "    <tr>\n",
       "      <th>160728</th>\n",
       "      <td>fru92_images/yacon/f_08_02_0421.jpg</td>\n",
       "      <td>24</td>\n",
       "    </tr>\n",
       "    <tr>\n",
       "      <th>160729</th>\n",
       "      <td>fru92_images/yacon/f_08_02_0422.jpg</td>\n",
       "      <td>24</td>\n",
       "    </tr>\n",
       "    <tr>\n",
       "      <th>160730</th>\n",
       "      <td>fru92_images/yacon/f_08_02_0423.jpg</td>\n",
       "      <td>24</td>\n",
       "    </tr>\n",
       "  </tbody>\n",
       "</table>\n",
       "<p>160731 rows × 2 columns</p>\n",
       "</div>"
      ],
      "text/plain": [
       "                                              image_path  class_id\n",
       "0       veg200_images/Chinese_artichoke/v_14_01_0001.jpg        13\n",
       "1       veg200_images/Chinese_artichoke/v_14_01_0002.jpg        13\n",
       "2       veg200_images/Chinese_artichoke/v_14_01_0003.jpg        13\n",
       "3       veg200_images/Chinese_artichoke/v_14_01_0004.jpg        13\n",
       "4       veg200_images/Chinese_artichoke/v_14_01_0005.jpg        13\n",
       "...                                                  ...       ...\n",
       "160726               fru92_images/yacon/f_08_02_0419.jpg        24\n",
       "160727               fru92_images/yacon/f_08_02_0420.jpg        24\n",
       "160728               fru92_images/yacon/f_08_02_0421.jpg        24\n",
       "160729               fru92_images/yacon/f_08_02_0422.jpg        24\n",
       "160730               fru92_images/yacon/f_08_02_0423.jpg        24\n",
       "\n",
       "[160731 rows x 2 columns]"
      ]
     },
     "execution_count": 5,
     "metadata": {},
     "output_type": "execute_result"
    }
   ],
   "source": [
    "df"
   ]
  },
  {
   "cell_type": "code",
   "execution_count": 6,
   "metadata": {},
   "outputs": [],
   "source": [
    "df['image_path'] = df[\"image_path\"].astype(str).apply(lambda x: \"/\".join([\"data\",\"vegfru\",x]))"
   ]
  },
  {
   "cell_type": "code",
   "execution_count": 7,
   "metadata": {},
   "outputs": [],
   "source": [
    "df['class_name'] = df[\"image_path\"].astype(str).apply(lambda x: Path(x).parent.name)"
   ]
  },
  {
   "cell_type": "code",
   "execution_count": 8,
   "metadata": {},
   "outputs": [
    {
     "data": {
      "text/plain": [
       "eggplant                       1807\n",
       "papaya                         1614\n",
       "mango                          1474\n",
       "grape                          1425\n",
       "garlic                         1420\n",
       "                               ... \n",
       "Herb_of_Ghostplant_Wormwood     204\n",
       "water_shield                    204\n",
       "kalimeris                       203\n",
       "termite_mushroom                202\n",
       "prickly_lettuce                 201\n",
       "Name: class_name, Length: 292, dtype: int64"
      ]
     },
     "execution_count": 8,
     "metadata": {},
     "output_type": "execute_result"
    }
   ],
   "source": [
    "df[\"class_name\"].value_counts()"
   ]
  },
  {
   "cell_type": "code",
   "execution_count": 9,
   "metadata": {},
   "outputs": [],
   "source": [
    "classes = [image.parent.name for image in train_images]"
   ]
  },
  {
   "cell_type": "code",
   "execution_count": 10,
   "metadata": {},
   "outputs": [],
   "source": [
    "vegfru5 = df.loc[\n",
    "    df[\"class_name\"].isin(\n",
    "        [\n",
    "            \"garlic\",\n",
    "            \"cattail\",\n",
    "            \"soybean\",\n",
    "            \"red_cabbage\",\n",
    "            \"mung_bean_sprouts\",\n",
    "            \"pakchoi\",\n",
    "            \"eggplant\",\n",
    "            \"chrysanthemum\",\n",
    "            \"snake_gourd\",\n",
    "            \"nameko\",\n",
    "            \"mustard\",\n",
    "            \"Lily\",\n",
    "            \"beetroot\",\n",
    "            \"kudzu\",\n",
    "            \"fallopia_multiflora\",\n",
    "        ]\n",
    "    )\n",
    "]\n"
   ]
  },
  {
   "cell_type": "code",
   "execution_count": 11,
   "metadata": {},
   "outputs": [
    {
     "name": "stderr",
     "output_type": "stream",
     "text": [
      "/var/folders/p4/kcmtkxw53z54k341vwwykts80000gn/T/ipykernel_74438/2816837359.py:1: SettingWithCopyWarning: \n",
      "A value is trying to be set on a copy of a slice from a DataFrame\n",
      "\n",
      "See the caveats in the documentation: https://pandas.pydata.org/pandas-docs/stable/user_guide/indexing.html#returning-a-view-versus-a-copy\n",
      "  vegfru5.sort_values(by=\"class_name\", inplace=True)\n"
     ]
    },
    {
     "data": {
      "text/plain": [
       "<AxesSubplot: >"
      ]
     },
     "execution_count": 11,
     "metadata": {},
     "output_type": "execute_result"
    },
    {
     "data": {
      "image/png": "[encoded data removed]",
      "text/plain": [
       "<Figure size 1000x1000 with 1 Axes>"
      ]
     },
     "metadata": {},
     "output_type": "display_data"
    }
   ],
   "source": [
    "vegfru5.sort_values(by=\"class_name\", inplace=True)\n",
    "vegfru5[\"class_name\"].value_counts().plot(kind='barh',figsize=(10,10))"
   ]
  },
  {
   "cell_type": "code",
   "execution_count": 12,
   "metadata": {},
   "outputs": [
    {
     "name": "stdout",
     "output_type": "stream",
     "text": [
      "<class 'pandas.core.frame.DataFrame'>\n",
      "Int64Index: 8936 entries, 800 to 93396\n",
      "Data columns (total 3 columns):\n",
      " #   Column      Non-Null Count  Dtype \n",
      "---  ------      --------------  ----- \n",
      " 0   image_path  8936 non-null   object\n",
      " 1   class_id    8936 non-null   int64 \n",
      " 2   class_name  8936 non-null   object\n",
      "dtypes: int64(1), object(2)\n",
      "memory usage: 279.2+ KB\n"
     ]
    }
   ],
   "source": [
    "vegfru5.info()"
   ]
  },
  {
   "cell_type": "code",
   "execution_count": 13,
   "metadata": {},
   "outputs": [],
   "source": [
    "vegfru5.to_csv('vegfru15.csv', index=False)"
   ]
  }
 ],
 "metadata": {
  "kernelspec": {
   "display_name": "train",
   "language": "python",
   "name": "python3"
  },
  "language_info": {
   "codemirror_mode": {
    "name": "ipython",
    "version": 3
   },
   "file_extension": ".py",
   "mimetype": "text/x-python",
   "name": "python",
   "nbconvert_exporter": "python",
   "pygments_lexer": "ipython3",
   "version": "3.10.8"
  },
  "orig_nbformat": 4,
  "vscode": {
   "interpreter": {
    "hash": "1acd9ee5c5bab15f7273df084afe797a621b6ddf34701f53604929eaea96c2cd"
   }
  }
 },
 "nbformat": 4,
 "nbformat_minor": 2
}
