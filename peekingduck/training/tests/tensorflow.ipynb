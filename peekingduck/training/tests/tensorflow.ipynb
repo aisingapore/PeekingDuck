{
 "cells": [
  {
   "cell_type": "code",
   "execution_count": 1,
   "metadata": {},
   "outputs": [
    {
     "name": "stdout",
     "output_type": "stream",
     "text": [
      "Metal device set to: Apple M1 Pro\n",
      "\n",
      "systemMemory: 16.00 GB\n",
      "maxCacheSize: 5.33 GB\n",
      "\n",
      "[[1 2 3 4]\n",
      " [5 6 7 0]]\n",
      "[[ 7  8  9 10 11  0]\n",
      " [13 14 15 16 19 20]]\n",
      "[[ 0  0]\n",
      " [21 22]]\n"
     ]
    },
    {
     "name": "stderr",
     "output_type": "stream",
     "text": [
      "2023-01-20 10:25:00.253254: I tensorflow/core/common_runtime/pluggable_device/pluggable_device_factory.cc:306] Could not identify NUMA node of platform GPU ID 0, defaulting to 0. Your kernel may not have been built with NUMA support.\n",
      "2023-01-20 10:25:00.253396: I tensorflow/core/common_runtime/pluggable_device/pluggable_device_factory.cc:272] Created TensorFlow device (/job:localhost/replica:0/task:0/device:GPU:0 with 0 MB memory) -> physical PluggableDevice (device: 0, name: METAL, pci bus id: <undefined>)\n",
      "2023-01-20 10:25:00.299219: W tensorflow/core/platform/profile_utils/cpu_utils.cc:128] Failed to get CPU frequency: 0 Hz\n"
     ]
    }
   ],
   "source": [
    "import tensorflow as tf\n",
    "\n",
    "elements = [\n",
    "    [0],\n",
    "    [1, 2, 3, 4],\n",
    "    [5, 6, 7],\n",
    "    [7, 8, 9, 10, 11],\n",
    "    [13, 14, 15, 16, 19, 20],\n",
    "    [21, 22],\n",
    "]\n",
    "dataset = tf.data.Dataset.from_generator(\n",
    "    lambda: elements, tf.int64, output_shapes=[None]\n",
    ")\n",
    "dataset = dataset.bucket_by_sequence_length(\n",
    "    element_length_func=lambda elem: tf.shape(elem)[0],\n",
    "    bucket_boundaries=[3, 5],\n",
    "    bucket_batch_sizes=[2, 2, 2],\n",
    ")\n",
    "for elem in dataset.as_numpy_iterator():\n",
    "    print(elem)\n"
   ]
  },
  {
   "cell_type": "code",
   "execution_count": 8,
   "metadata": {},
   "outputs": [
    {
     "name": "stdout",
     "output_type": "stream",
     "text": [
      "Epoch 1/5\n"
     ]
    },
    {
     "name": "stderr",
     "output_type": "stream",
     "text": [
      "2023-01-20 11:13:26.694400: I tensorflow/core/grappler/optimizers/custom_graph_optimizer_registry.cc:114] Plugin optimizer for device_type GPU is enabled.\n"
     ]
    },
    {
     "name": "stdout",
     "output_type": "stream",
     "text": [
      "782/782 [==============================] - 136s 155ms/step - loss: 4.7972 - accuracy: 0.0502\n",
      "Epoch 2/5\n",
      "782/782 [==============================] - 111s 141ms/step - loss: 4.2473 - accuracy: 0.1200\n",
      "Epoch 3/5\n",
      "782/782 [==============================] - 111s 142ms/step - loss: 3.7662 - accuracy: 0.1784\n",
      "Epoch 4/5\n",
      "782/782 [==============================] - 111s 142ms/step - loss: 4.2875 - accuracy: 0.1257\n",
      "Epoch 5/5\n",
      "782/782 [==============================] - 111s 142ms/step - loss: 3.6596 - accuracy: 0.1803\n"
     ]
    },
    {
     "data": {
      "text/plain": [
       "<keras.callbacks.History at 0x46afd6410>"
      ]
     },
     "execution_count": 8,
     "metadata": {},
     "output_type": "execute_result"
    }
   ],
   "source": [
    "cifar = tf.keras.datasets.cifar100\n",
    "(x_train, y_train), (x_test, y_test) = cifar.load_data()\n",
    "model = tf.keras.applications.resnet.ResNet101(\n",
    "    include_top=True,\n",
    "    weights=None,\n",
    "    input_shape=(32, 32, 3),\n",
    "    classes=100,\n",
    ")\n",
    "\n",
    "loss_fn = tf.keras.losses.SparseCategoricalCrossentropy(from_logits=False)\n",
    "model.compile(optimizer=\"adam\", loss=loss_fn, metrics=[\"accuracy\"])\n",
    "model.fit(x_train, y_train, epochs=5, batch_size=64)\n"
   ]
  },
  {
   "cell_type": "code",
   "execution_count": 2,
   "metadata": {},
   "outputs": [
    {
     "name": "stdout",
     "output_type": "stream",
     "text": [
      "Num GPUs Available:  1\n"
     ]
    }
   ],
   "source": [
    "import tensorflow as tf\n",
    "\n",
    "print(\"Num GPUs Available: \", len(tf.config.experimental.list_physical_devices(\"GPU\")))\n"
   ]
  },
  {
   "cell_type": "code",
   "execution_count": 3,
   "metadata": {},
   "outputs": [
    {
     "name": "stderr",
     "output_type": "stream",
     "text": [
      "/opt/homebrew/Caskroom/miniforge/base/envs/train/lib/python3.10/site-packages/tqdm/auto.py:22: TqdmWarning: IProgress not found. Please update jupyter and ipywidgets. See https://ipywidgets.readthedocs.io/en/stable/user_install.html\n",
      "  from .autonotebook import tqdm as notebook_tqdm\n"
     ]
    },
    {
     "name": "stdout",
     "output_type": "stream",
     "text": [
      "TensorFlow version: 2.10.0\n",
      "Num GPUs Available:  1\n",
      "WARNING:tensorflow:AutoGraph could not transform <function normalize_img at 0x2bce4c4c0> and will run it as-is.\n",
      "Cause: Unable to locate the source code of <function normalize_img at 0x2bce4c4c0>. Note that functions defined in certain environments, like the interactive Python shell, do not expose their source code. If that is the case, you should define them in a .py source file. If you are certain the code is graph-compatible, wrap the call using @tf.autograph.experimental.do_not_convert. Original error: could not get source code\n",
      "To silence this warning, decorate the function with @tf.autograph.experimental.do_not_convert\n"
     ]
    },
    {
     "name": "stderr",
     "output_type": "stream",
     "text": [
      "WARNING:tensorflow:AutoGraph could not transform <function normalize_img at 0x2bce4c4c0> and will run it as-is.\n",
      "Cause: Unable to locate the source code of <function normalize_img at 0x2bce4c4c0>. Note that functions defined in certain environments, like the interactive Python shell, do not expose their source code. If that is the case, you should define them in a .py source file. If you are certain the code is graph-compatible, wrap the call using @tf.autograph.experimental.do_not_convert. Original error: could not get source code\n",
      "To silence this warning, decorate the function with @tf.autograph.experimental.do_not_convert\n"
     ]
    },
    {
     "name": "stdout",
     "output_type": "stream",
     "text": [
      "WARNING: AutoGraph could not transform <function normalize_img at 0x2bce4c4c0> and will run it as-is.\n",
      "Cause: Unable to locate the source code of <function normalize_img at 0x2bce4c4c0>. Note that functions defined in certain environments, like the interactive Python shell, do not expose their source code. If that is the case, you should define them in a .py source file. If you are certain the code is graph-compatible, wrap the call using @tf.autograph.experimental.do_not_convert. Original error: could not get source code\n",
      "To silence this warning, decorate the function with @tf.autograph.experimental.do_not_convert\n",
      "Epoch 1/12\n"
     ]
    },
    {
     "name": "stderr",
     "output_type": "stream",
     "text": [
      "2023-01-20 10:25:14.921619: I tensorflow/core/grappler/optimizers/custom_graph_optimizer_registry.cc:114] Plugin optimizer for device_type GPU is enabled.\n"
     ]
    },
    {
     "name": "stdout",
     "output_type": "stream",
     "text": [
      "469/469 [==============================] - ETA: 0s - loss: 0.1504 - accuracy: 0.9554"
     ]
    },
    {
     "name": "stderr",
     "output_type": "stream",
     "text": [
      "2023-01-20 10:25:23.932715: I tensorflow/core/grappler/optimizers/custom_graph_optimizer_registry.cc:114] Plugin optimizer for device_type GPU is enabled.\n"
     ]
    },
    {
     "name": "stdout",
     "output_type": "stream",
     "text": [
      "469/469 [==============================] - 10s 18ms/step - loss: 0.1504 - accuracy: 0.9554 - val_loss: 0.0617 - val_accuracy: 0.9806\n",
      "Epoch 2/12\n",
      "469/469 [==============================] - 8s 17ms/step - loss: 0.0423 - accuracy: 0.9867 - val_loss: 0.0389 - val_accuracy: 0.9869\n",
      "Epoch 3/12\n",
      "469/469 [==============================] - 8s 17ms/step - loss: 0.0263 - accuracy: 0.9921 - val_loss: 0.0390 - val_accuracy: 0.9874\n",
      "Epoch 4/12\n",
      "469/469 [==============================] - 8s 17ms/step - loss: 0.0184 - accuracy: 0.9944 - val_loss: 0.0459 - val_accuracy: 0.9848\n",
      "Epoch 5/12\n",
      "469/469 [==============================] - 8s 17ms/step - loss: 0.0133 - accuracy: 0.9956 - val_loss: 0.0583 - val_accuracy: 0.9833\n",
      "Epoch 6/12\n",
      "469/469 [==============================] - 8s 17ms/step - loss: 0.0091 - accuracy: 0.9970 - val_loss: 0.0436 - val_accuracy: 0.9881\n",
      "Epoch 7/12\n",
      "469/469 [==============================] - 8s 17ms/step - loss: 0.0060 - accuracy: 0.9979 - val_loss: 0.0491 - val_accuracy: 0.9869\n",
      "Epoch 8/12\n",
      "469/469 [==============================] - 8s 17ms/step - loss: 0.0064 - accuracy: 0.9977 - val_loss: 0.0566 - val_accuracy: 0.9869\n",
      "Epoch 9/12\n",
      "469/469 [==============================] - 8s 17ms/step - loss: 0.0054 - accuracy: 0.9983 - val_loss: 0.0396 - val_accuracy: 0.9905\n",
      "Epoch 10/12\n",
      "469/469 [==============================] - 8s 17ms/step - loss: 0.0067 - accuracy: 0.9976 - val_loss: 0.0478 - val_accuracy: 0.9878\n",
      "Epoch 11/12\n",
      "469/469 [==============================] - 8s 17ms/step - loss: 0.0036 - accuracy: 0.9988 - val_loss: 0.0496 - val_accuracy: 0.9882\n",
      "Epoch 12/12\n",
      "469/469 [==============================] - 8s 17ms/step - loss: 0.0021 - accuracy: 0.9994 - val_loss: 0.0522 - val_accuracy: 0.9899\n",
      "CPU times: user 51.4 s, sys: 24.7 s, total: 1min 16s\n",
      "Wall time: 1min 39s\n"
     ]
    },
    {
     "data": {
      "text/plain": [
       "<keras.callbacks.History at 0x29c4268f0>"
      ]
     },
     "execution_count": 3,
     "metadata": {},
     "output_type": "execute_result"
    }
   ],
   "source": [
    "%%time\n",
    "import tensorflow as tf\n",
    "import tensorflow_datasets as tfds\n",
    "print(\"TensorFlow version:\", tf.__version__)\n",
    "print(\"Num GPUs Available: \", len(tf.config.experimental.list_physical_devices('GPU')))\n",
    "tf.config.list_physical_devices('GPU')\n",
    "(ds_train, ds_test), ds_info = tfds.load(\n",
    "    'mnist',\n",
    "    split=['train', 'test'],\n",
    "    shuffle_files=True,\n",
    "    as_supervised=True,\n",
    "    with_info=True,\n",
    ")\n",
    "def normalize_img(image, label):\n",
    "  \"\"\"Normalizes images: `uint8` -> `float32`.\"\"\"\n",
    "  return tf.cast(image, tf.float32) / 255., label\n",
    "batch_size = 128\n",
    "ds_train = ds_train.map(\n",
    "    normalize_img, num_parallel_calls=tf.data.experimental.AUTOTUNE)\n",
    "ds_train = ds_train.cache()\n",
    "ds_train = ds_train.shuffle(ds_info.splits['train'].num_examples)\n",
    "ds_train = ds_train.batch(batch_size)\n",
    "ds_train = ds_train.prefetch(tf.data.experimental.AUTOTUNE)\n",
    "ds_test = ds_test.map(\n",
    "    normalize_img, num_parallel_calls=tf.data.experimental.AUTOTUNE)\n",
    "ds_test = ds_test.batch(batch_size)\n",
    "ds_test = ds_test.cache()\n",
    "ds_test = ds_test.prefetch(tf.data.experimental.AUTOTUNE)\n",
    "model = tf.keras.models.Sequential([\n",
    "  tf.keras.layers.Conv2D(32, kernel_size=(3, 3),\n",
    "                 activation='relu'),\n",
    "  tf.keras.layers.Conv2D(64, kernel_size=(3, 3),\n",
    "                 activation='relu'),\n",
    "  tf.keras.layers.MaxPooling2D(pool_size=(2, 2)),\n",
    "#   tf.keras.layers.Dropout(0.25),\n",
    "  tf.keras.layers.Flatten(),\n",
    "  tf.keras.layers.Dense(128, activation='relu'),\n",
    "#   tf.keras.layers.Dropout(0.5),\n",
    "  tf.keras.layers.Dense(10, activation='softmax')\n",
    "])\n",
    "model.compile(\n",
    "    loss='sparse_categorical_crossentropy',\n",
    "    optimizer=tf.keras.optimizers.Adam(0.001),\n",
    "    metrics=['accuracy'],\n",
    ")\n",
    "model.fit(\n",
    "    ds_train,\n",
    "    epochs=12,\n",
    "    validation_data=ds_test,\n",
    ")"
   ]
  }
 ],
 "metadata": {
  "kernelspec": {
   "display_name": "train",
   "language": "python",
   "name": "python3"
  },
  "language_info": {
   "codemirror_mode": {
    "name": "ipython",
    "version": 3
   },
   "file_extension": ".py",
   "mimetype": "text/x-python",
   "name": "python",
   "nbconvert_exporter": "python",
   "pygments_lexer": "ipython3",
   "version": "3.10.8 | packaged by conda-forge | (main, Nov 22 2022, 08:25:29) [Clang 14.0.6 ]"
  },
  "orig_nbformat": 4,
  "vscode": {
   "interpreter": {
    "hash": "1acd9ee5c5bab15f7273df084afe797a621b6ddf34701f53604929eaea96c2cd"
   }
  }
 },
 "nbformat": 4,
 "nbformat_minor": 2
}
